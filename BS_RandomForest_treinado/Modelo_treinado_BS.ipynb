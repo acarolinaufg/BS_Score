{
 "cells": [
  {
   "cell_type": "code",
   "execution_count": 73,
   "id": "05c4b25c",
   "metadata": {},
   "outputs": [
    {
     "data": {
      "text/html": [
       "<div>\n",
       "<style scoped>\n",
       "    .dataframe tbody tr th:only-of-type {\n",
       "        vertical-align: middle;\n",
       "    }\n",
       "\n",
       "    .dataframe tbody tr th {\n",
       "        vertical-align: top;\n",
       "    }\n",
       "\n",
       "    .dataframe thead th {\n",
       "        text-align: right;\n",
       "    }\n",
       "</style>\n",
       "<table border=\"1\" class=\"dataframe\">\n",
       "  <thead>\n",
       "    <tr style=\"text-align: right;\">\n",
       "      <th></th>\n",
       "      <th>Score</th>\n",
       "      <th>Estery</th>\n",
       "      <th>Body</th>\n",
       "      <th>Fresh</th>\n",
       "      <th>Tart</th>\n",
       "      <th>Sweet</th>\n",
       "      <th>Finish</th>\n",
       "      <th>Bitter</th>\n",
       "      <th>Sulfitic</th>\n",
       "      <th>Astringent</th>\n",
       "      <th>...</th>\n",
       "      <th>Freshly cut grass</th>\n",
       "      <th>Honey</th>\n",
       "      <th>Fruity: banana (Isoamyl acetate)</th>\n",
       "      <th>Sweet corn (DMS)</th>\n",
       "      <th>Sour</th>\n",
       "      <th>Rotten eggs (H2S)</th>\n",
       "      <th>Sulfury: onion</th>\n",
       "      <th>Almond</th>\n",
       "      <th>Winey</th>\n",
       "      <th>Light-struck. skunky</th>\n",
       "    </tr>\n",
       "  </thead>\n",
       "  <tbody>\n",
       "    <tr>\n",
       "      <th>0</th>\n",
       "      <td>8.0</td>\n",
       "      <td>2</td>\n",
       "      <td>0</td>\n",
       "      <td>1</td>\n",
       "      <td>0</td>\n",
       "      <td>1</td>\n",
       "      <td>0</td>\n",
       "      <td>0</td>\n",
       "      <td>0</td>\n",
       "      <td>0</td>\n",
       "      <td>...</td>\n",
       "      <td>0</td>\n",
       "      <td>0</td>\n",
       "      <td>0</td>\n",
       "      <td>0</td>\n",
       "      <td>0</td>\n",
       "      <td>0</td>\n",
       "      <td>0</td>\n",
       "      <td>0</td>\n",
       "      <td>0</td>\n",
       "      <td>0</td>\n",
       "    </tr>\n",
       "    <tr>\n",
       "      <th>1</th>\n",
       "      <td>8.0</td>\n",
       "      <td>2</td>\n",
       "      <td>0</td>\n",
       "      <td>3</td>\n",
       "      <td>0</td>\n",
       "      <td>2</td>\n",
       "      <td>0</td>\n",
       "      <td>0</td>\n",
       "      <td>2</td>\n",
       "      <td>0</td>\n",
       "      <td>...</td>\n",
       "      <td>0</td>\n",
       "      <td>0</td>\n",
       "      <td>0</td>\n",
       "      <td>0</td>\n",
       "      <td>0</td>\n",
       "      <td>0</td>\n",
       "      <td>0</td>\n",
       "      <td>0</td>\n",
       "      <td>0</td>\n",
       "      <td>0</td>\n",
       "    </tr>\n",
       "    <tr>\n",
       "      <th>2</th>\n",
       "      <td>7.0</td>\n",
       "      <td>2</td>\n",
       "      <td>0</td>\n",
       "      <td>0</td>\n",
       "      <td>2</td>\n",
       "      <td>0</td>\n",
       "      <td>0</td>\n",
       "      <td>0</td>\n",
       "      <td>0</td>\n",
       "      <td>2</td>\n",
       "      <td>...</td>\n",
       "      <td>0</td>\n",
       "      <td>0</td>\n",
       "      <td>0</td>\n",
       "      <td>0</td>\n",
       "      <td>0</td>\n",
       "      <td>0</td>\n",
       "      <td>0</td>\n",
       "      <td>0</td>\n",
       "      <td>0</td>\n",
       "      <td>0</td>\n",
       "    </tr>\n",
       "    <tr>\n",
       "      <th>3</th>\n",
       "      <td>7.5</td>\n",
       "      <td>2</td>\n",
       "      <td>0</td>\n",
       "      <td>0</td>\n",
       "      <td>2</td>\n",
       "      <td>2</td>\n",
       "      <td>0</td>\n",
       "      <td>0</td>\n",
       "      <td>0</td>\n",
       "      <td>0</td>\n",
       "      <td>...</td>\n",
       "      <td>0</td>\n",
       "      <td>0</td>\n",
       "      <td>0</td>\n",
       "      <td>0</td>\n",
       "      <td>0</td>\n",
       "      <td>0</td>\n",
       "      <td>0</td>\n",
       "      <td>0</td>\n",
       "      <td>0</td>\n",
       "      <td>0</td>\n",
       "    </tr>\n",
       "    <tr>\n",
       "      <th>4</th>\n",
       "      <td>7.0</td>\n",
       "      <td>2</td>\n",
       "      <td>1</td>\n",
       "      <td>0</td>\n",
       "      <td>1</td>\n",
       "      <td>0</td>\n",
       "      <td>0</td>\n",
       "      <td>0</td>\n",
       "      <td>0</td>\n",
       "      <td>1</td>\n",
       "      <td>...</td>\n",
       "      <td>0</td>\n",
       "      <td>0</td>\n",
       "      <td>0</td>\n",
       "      <td>0</td>\n",
       "      <td>0</td>\n",
       "      <td>0</td>\n",
       "      <td>0</td>\n",
       "      <td>0</td>\n",
       "      <td>0</td>\n",
       "      <td>0</td>\n",
       "    </tr>\n",
       "  </tbody>\n",
       "</table>\n",
       "<p>5 rows × 48 columns</p>\n",
       "</div>"
      ],
      "text/plain": [
       "   Score  Estery  Body  Fresh  Tart  Sweet  Finish  Bitter  Sulfitic  \\\n",
       "0    8.0       2     0      1     0      1       0       0         0   \n",
       "1    8.0       2     0      3     0      2       0       0         2   \n",
       "2    7.0       2     0      0     2      0       0       0         0   \n",
       "3    7.5       2     0      0     2      2       0       0         0   \n",
       "4    7.0       2     1      0     1      0       0       0         0   \n",
       "\n",
       "   Astringent  ...  Freshly cut grass  Honey  \\\n",
       "0           0  ...                  0      0   \n",
       "1           0  ...                  0      0   \n",
       "2           2  ...                  0      0   \n",
       "3           0  ...                  0      0   \n",
       "4           1  ...                  0      0   \n",
       "\n",
       "   Fruity: banana (Isoamyl acetate)  Sweet corn (DMS)  Sour  \\\n",
       "0                                 0                 0     0   \n",
       "1                                 0                 0     0   \n",
       "2                                 0                 0     0   \n",
       "3                                 0                 0     0   \n",
       "4                                 0                 0     0   \n",
       "\n",
       "   Rotten eggs (H2S)  Sulfury: onion  Almond  Winey  Light-struck. skunky  \n",
       "0                  0               0       0      0                     0  \n",
       "1                  0               0       0      0                     0  \n",
       "2                  0               0       0      0                     0  \n",
       "3                  0               0       0      0                     0  \n",
       "4                  0               0       0      0                     0  \n",
       "\n",
       "[5 rows x 48 columns]"
      ]
     },
     "execution_count": 73,
     "metadata": {},
     "output_type": "execute_result"
    }
   ],
   "source": [
    "#Importing the modules\n",
    "import pandas as pd\n",
    "import numpy as np\n",
    "from sklearn.model_selection import StratifiedShuffleSplit\n",
    "from sklearn import tree\n",
    "from sklearn.ensemble import RandomForestRegressor\n",
    "from sklearn.ensemble import AdaBoostRegressor\n",
    "from matplotlib import pyplot as plt\n",
    "import sklearn.metrics as metrics\n",
    "\n",
    "#uploading data\n",
    "dados = pd.read_csv('MatrizOffFlavors.csv', sep=';')\n",
    "\n",
    "dados = dados.drop('Concatenate', axis=1)\n",
    "dados = dados.drop('Brand Name', axis=1)\n",
    "\n",
    "dados['Score'] = dados['Score'].apply(pd.to_numeric)\n",
    "dados.head()"
   ]
  },
  {
   "cell_type": "code",
   "execution_count": 126,
   "id": "06422ea0",
   "metadata": {},
   "outputs": [],
   "source": [
    "'''\n",
    "Definindo as funções de validar as váriaveis de treino e teste, executar o modelo e \n",
    "de métricas do modelo. De modo que eu não precise ficar refazendo o modelo todas as vezes\n",
    "\n",
    "StratifieldShuffleSplit garante que vou ter amostras dos meus dois grupos(fraude e normal)\n",
    "n_splits - uma divisão de conjuntos\n",
    "test_size - tamanho do grupo de treino, costuma ser 10%\n",
    "random_state = diminuir a aleatoriaedade\n",
    "'''\n",
    "\n",
    "\n",
    "def executar_validador(X,y):\n",
    "  validador = StratifiedShuffleSplit(n_splits=1,test_size=0.1,random_state=0)\n",
    "  for treino_id, teste_id in validador.split(X,y):\n",
    "    X_train, X_test = X[treino_id], X[teste_id]\n",
    "    y_train, y_test = y[treino_id], y[teste_id]\n",
    "  return X_train, X_test, y_train, y_test\n",
    "\n",
    "\n",
    "from sklearn import tree\n",
    "def executar_classificador(classificador, X_train, X_test, Y_train):\n",
    "  arvore = classificador.fit(X_train, Y_train)\n",
    "  y_pred = arvore.predict(X_test)\n",
    "  return y_pred\n",
    "\n",
    "def validar_arvore(y_test, y_pred):\n",
    "  print(np.sqrt(metrics.mean_squared_error(y_test, y_pred)))\n",
    "  "
   ]
  },
  {
   "cell_type": "markdown",
   "id": "ae7c6578",
   "metadata": {},
   "source": [
    "## Randon Forest "
   ]
  },
  {
   "cell_type": "code",
   "execution_count": 127,
   "id": "555b43fb",
   "metadata": {},
   "outputs": [],
   "source": [
    "#Execução validador\n",
    "X = dados.drop('Score', axis=1).values\n",
    "y= dados['Score'].values\n",
    "X_train, X_test, y_train, y_test = executar_validador(X,y)\n",
    "\n"
   ]
  },
  {
   "cell_type": "code",
   "execution_count": 128,
   "id": "992135ad",
   "metadata": {},
   "outputs": [],
   "source": [
    "#Execução do modelo\n",
    "classificador_random_forest = RandomForestRegressor(n_estimators=200,random_state=0, max_depth=10)\n",
    "y_pred_random_forest = executar_classificador(classificador_random_forest, X_train, X_test,y_train)"
   ]
  },
  {
   "cell_type": "code",
   "execution_count": 129,
   "id": "a01d6e74",
   "metadata": {},
   "outputs": [
    {
     "data": {
      "image/png": "[encoded data removed]",
      "text/plain": [
       "<Figure size 432x288 with 1 Axes>"
      ]
     },
     "metadata": {
      "needs_background": "light"
     },
     "output_type": "display_data"
    }
   ],
   "source": [
    "plt.plot(y_pred_random_forest, color = 'blue')\n",
    "plt.plot(y_test, color = 'red')\n",
    "plt.show()"
   ]
  },
  {
   "cell_type": "code",
   "execution_count": 130,
   "id": "3d59e9c8",
   "metadata": {},
   "outputs": [
    {
     "name": "stdout",
     "output_type": "stream",
     "text": [
      "0.3494791646506263\n"
     ]
    }
   ],
   "source": [
    "validar_arvore(y_test,y_pred_random_forest)"
   ]
  },
  {
   "cell_type": "markdown",
   "id": "28aac8cb",
   "metadata": {},
   "source": [
    "## AdaBoost"
   ]
  },
  {
   "cell_type": "code",
   "execution_count": 91,
   "id": "1333b65d",
   "metadata": {},
   "outputs": [],
   "source": [
    "#Execução do validador\n",
    "classificador_adaboost = AdaBoostRegressor(random_state=0, n_estimators=150)\n",
    "y_pred_adabost = executar_classificador(classificador_adaboost, X_train, X_test,y_train)"
   ]
  },
  {
   "cell_type": "code",
   "execution_count": 92,
   "id": "8ea9d430",
   "metadata": {},
   "outputs": [
    {
     "data": {
      "image/png": "[encoded data removed]",
      "text/plain": [
       "<Figure size 432x288 with 1 Axes>"
      ]
     },
     "metadata": {
      "needs_background": "light"
     },
     "output_type": "display_data"
    }
   ],
   "source": [
    "plt.plot(y_pred_adabost, color = 'blue')\n",
    "plt.plot(y_test, color = 'red')\n",
    "plt.show()"
   ]
  },
  {
   "cell_type": "code",
   "execution_count": 93,
   "id": "6b4b64d3",
   "metadata": {},
   "outputs": [
    {
     "name": "stdout",
     "output_type": "stream",
     "text": [
      "0.3742504153910939\n"
     ]
    }
   ],
   "source": [
    "validar_arvore(y_test,y_pred_adabost)"
   ]
  },
  {
   "cell_type": "code",
   "execution_count": null,
   "id": "fe566780",
   "metadata": {},
   "outputs": [],
   "source": []
  }
 ],
 "metadata": {
  "kernelspec": {
   "display_name": "Python 3",
   "language": "python",
   "name": "python3"
  },
  "language_info": {
   "codemirror_mode": {
    "name": "ipython",
    "version": 3
   },
   "file_extension": ".py",
   "mimetype": "text/x-python",
   "name": "python",
   "nbconvert_exporter": "python",
   "pygments_lexer": "ipython3",
   "version": "3.8.5"
  }
 },
 "nbformat": 4,
 "nbformat_minor": 5
}
